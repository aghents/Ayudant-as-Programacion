{
  "nbformat": 4,
  "nbformat_minor": 0,
  "metadata": {
    "colab": {
      "name": "ayudantia0.ipynb",
      "provenance": [],
      "collapsed_sections": [],
      "authorship_tag": "ABX9TyOBt/EIhwp4ZK0KfcHR6iY0",
      "include_colab_link": true
    },
    "kernelspec": {
      "name": "python3",
      "display_name": "Python 3"
    },
    "language_info": {
      "name": "python"
    }
  },
  "cells": [
    {
      "cell_type": "markdown",
      "metadata": {
        "id": "view-in-github",
        "colab_type": "text"
      },
      "source": [
        "<a href=\"https://colab.research.google.com/github/agustinesoto/Ayudant-as-Programacion/blob/main/ayudantia0.ipynb\" target=\"_parent\"><img src=\"https://colab.research.google.com/assets/colab-badge.svg\" alt=\"Open In Colab\"/></a>"
      ]
    },
    {
      "cell_type": "markdown",
      "source": [
        "# Ayudantía 0: Introducción a Python\n",
        "![image.png](data:image/png;base64,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)\n",
        "## Por Agustín Soto Carvajal <agusoto@alumnos.uai.cl>\n",
        "\n"
      ],
      "metadata": {
        "id": "An1veqO3uaqc"
      }
    },
    {
      "cell_type": "markdown",
      "source": [
        "**Cualquier consulta no dudes en preguntar!!**"
      ],
      "metadata": {
        "id": "Soli8b2RuhF5"
      }
    },
    {
      "cell_type": "markdown",
      "source": [
        "# Python 3.X"
      ],
      "metadata": {
        "id": "3tLn6WEnwt8_"
      }
    },
    {
      "cell_type": "markdown",
      "source": [
        "Python es lenguage de programación cuya ejecución es realizada a través de un interprete. Éste interprete lee código desde:\n",
        "\n",
        "\n",
        "*   La consola de python.\n",
        "*   Archivos con extensión .py\n",
        "\n",
        "\n"
      ],
      "metadata": {
        "id": "2WOVjXqfwzad"
      }
    },
    {
      "cell_type": "markdown",
      "source": [
        "# Imprimir por pantalla (output/salida)\n",
        "Para imprimir por pantalla utilizaremos el siguiente comando: `print()`"
      ],
      "metadata": {
        "id": "75UaRBPSxJ-O"
      }
    },
    {
      "cell_type": "code",
      "source": [
        ""
      ],
      "metadata": {
        "id": "27ScMrpbxcZX"
      },
      "execution_count": null,
      "outputs": []
    },
    {
      "cell_type": "markdown",
      "source": [
        "# Comentarios \n",
        "Sirven para explicar lo que estás haciendo con tu código o dejar algún mensaje para quien lo lea, para hacer comentarios se usa ```# ```\n",
        "\n"
      ],
      "metadata": {
        "id": "pZ5QVQEUyepu"
      }
    },
    {
      "cell_type": "code",
      "source": [
        "###EJEMPLOS sin contexto##\n",
        "\n",
        "#Integrantes de grupo 5: Juan, María, Pedro, José\n",
        "\n",
        "#El siguiente código sirve para determinar si un número es primo o no\n",
        "\n",
        "#import math sirve para obtener comandos para hacer cálculos matemáticos que no están nativamente en Python\n"
      ],
      "metadata": {
        "id": "ZVCfIivUy1OB"
      },
      "execution_count": null,
      "outputs": []
    },
    {
      "cell_type": "markdown",
      "source": [
        "# Tipos de datos\n",
        "\n",
        "\n",
        "\n"
      ],
      "metadata": {
        "id": "kmAXNmr3vY3c"
      }
    },
    {
      "cell_type": "code",
      "source": [
        ""
      ],
      "metadata": {
        "id": "ueKf3bBKyzZ8"
      },
      "execution_count": null,
      "outputs": []
    },
    {
      "cell_type": "markdown",
      "source": [
        "Números enteros\n",
        "\n",
        "Tipo ```int``` (integer)\n",
        "\n"
      ],
      "metadata": {
        "id": "EAMTzREIvgG5"
      }
    },
    {
      "cell_type": "code",
      "execution_count": null,
      "metadata": {
        "id": "Bx8pC1UluZyW"
      },
      "outputs": [],
      "source": [
        ""
      ]
    },
    {
      "cell_type": "code",
      "source": [
        ""
      ],
      "metadata": {
        "id": "PfRmxbubxgof"
      },
      "execution_count": null,
      "outputs": []
    },
    {
      "cell_type": "code",
      "source": [
        ""
      ],
      "metadata": {
        "id": "PL9MRaiizqii"
      },
      "execution_count": null,
      "outputs": []
    },
    {
      "cell_type": "code",
      "source": [
        ""
      ],
      "metadata": {
        "id": "bLnnGiE5xhBv"
      },
      "execution_count": null,
      "outputs": []
    },
    {
      "cell_type": "markdown",
      "source": [
        "Números reales\n",
        "\n",
        "Tipo `float` (punto flotante)\n"
      ],
      "metadata": {
        "id": "rzY8TAoXzorR"
      }
    },
    {
      "cell_type": "code",
      "source": [
        ""
      ],
      "metadata": {
        "id": "D4_kQwGAzsvs"
      },
      "execution_count": null,
      "outputs": []
    },
    {
      "cell_type": "code",
      "source": [
        ""
      ],
      "metadata": {
        "id": "4VUwYsKXztie"
      },
      "execution_count": null,
      "outputs": []
    },
    {
      "cell_type": "code",
      "source": [
        ""
      ],
      "metadata": {
        "id": "wj-1DHTc0NvK"
      },
      "execution_count": null,
      "outputs": []
    },
    {
      "cell_type": "markdown",
      "source": [
        "Valores Lógicos o booleanos (acuérdense de álgebra)\n",
        "\n",
        "Tipo ```bool```\n",
        "\n"
      ],
      "metadata": {
        "id": "LIyDol_L0ixA"
      }
    },
    {
      "cell_type": "code",
      "source": [
        ""
      ],
      "metadata": {
        "id": "MrTpQ6Ld0yDJ"
      },
      "execution_count": null,
      "outputs": []
    },
    {
      "cell_type": "code",
      "source": [
        ""
      ],
      "metadata": {
        "id": "0PIOpmb80yQ8"
      },
      "execution_count": null,
      "outputs": []
    },
    {
      "cell_type": "markdown",
      "source": [
        "Texto\n",
        "\n",
        "tipo `str` (strings)"
      ],
      "metadata": {
        "id": "IBSzI4dv3gAE"
      }
    },
    {
      "cell_type": "code",
      "source": [
        "#ejemplo"
      ],
      "metadata": {
        "id": "oiTngSDV309Q"
      },
      "execution_count": null,
      "outputs": []
    },
    {
      "cell_type": "code",
      "source": [
        "#concatenar"
      ],
      "metadata": {
        "id": "XVLjWcyl35eV"
      },
      "execution_count": null,
      "outputs": []
    },
    {
      "cell_type": "code",
      "source": [
        "#amplificar"
      ],
      "metadata": {
        "id": "VpjyUd0n381c"
      },
      "execution_count": null,
      "outputs": []
    },
    {
      "cell_type": "markdown",
      "source": [
        "# Operadores aritméticos \n",
        "\n",
        "Operan sobre valores numéricos y entregan un valor numérico como resultado. Pueden ser:\n",
        "\n",
        "\n",
        "\n",
        "* Suma (+)\n",
        "* Resta (-)\n",
        "* Multiplicación (*)\n",
        "* División (/)\n",
        "* División Entera (//)\n",
        "* Módulo (%)\n",
        "* Potencia (**)\n",
        "\n",
        "\n",
        "\n",
        "\n"
      ],
      "metadata": {
        "id": "vryUUBeT1UEl"
      }
    },
    {
      "cell_type": "code",
      "source": [
        "#Suma "
      ],
      "metadata": {
        "id": "Z5zls7EV2CX4"
      },
      "execution_count": null,
      "outputs": []
    },
    {
      "cell_type": "code",
      "source": [
        "#Resta"
      ],
      "metadata": {
        "id": "JS-xTdD92CnU"
      },
      "execution_count": null,
      "outputs": []
    },
    {
      "cell_type": "code",
      "source": [
        "# División\n"
      ],
      "metadata": {
        "id": "J9imKrsJ2HCT"
      },
      "execution_count": null,
      "outputs": []
    },
    {
      "cell_type": "code",
      "source": [
        "#División entera"
      ],
      "metadata": {
        "id": "HxHb55y92JOq"
      },
      "execution_count": null,
      "outputs": []
    },
    {
      "cell_type": "code",
      "source": [
        "#Módulo"
      ],
      "metadata": {
        "id": "bAsvieOz2bFH"
      },
      "execution_count": null,
      "outputs": []
    },
    {
      "cell_type": "code",
      "source": [
        "#Potencia"
      ],
      "metadata": {
        "id": "w_xdECZQ2c3M"
      },
      "execution_count": null,
      "outputs": []
    },
    {
      "cell_type": "markdown",
      "source": [
        "# Asignación de variables"
      ],
      "metadata": {
        "id": "u-1h91yp2lwe"
      }
    },
    {
      "cell_type": "markdown",
      "source": [
        "Una asignación de variables tiene la forma:\n",
        "\n",
        "![image.png](data:image/png;base64,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)\n",
        "\n"
      ],
      "metadata": {
        "id": "gMTuMcLw2xEs"
      }
    },
    {
      "cell_type": "markdown",
      "source": [
        "* Primero se evalúa la expresión a la derecha del signo igual.\n",
        "\n",
        "* El resultado de la evaluación es asignado a la variable a la izquierda del signo igual.\n",
        "\n",
        "\n",
        "\n"
      ],
      "metadata": {
        "id": "D3Vq6Eyo3U-Z"
      }
    },
    {
      "cell_type": "code",
      "source": [
        ""
      ],
      "metadata": {
        "id": "RcbWPwAL2rbw"
      },
      "execution_count": null,
      "outputs": []
    },
    {
      "cell_type": "code",
      "source": [
        ""
      ],
      "metadata": {
        "id": "D1WoLbu74csv"
      },
      "execution_count": null,
      "outputs": []
    },
    {
      "cell_type": "code",
      "source": [
        ""
      ],
      "metadata": {
        "id": "Ys_suxUO4c84"
      },
      "execution_count": null,
      "outputs": []
    },
    {
      "cell_type": "markdown",
      "source": [
        "# Entrada de datos (input)"
      ],
      "metadata": {
        "id": "bgCiuoJp4s5J"
      }
    },
    {
      "cell_type": "markdown",
      "source": [
        "Supongamos que nos piden hacer un programa que nos pida los datos de un usuario\n"
      ],
      "metadata": {
        "id": "HAeHfLSJ5aIz"
      }
    },
    {
      "cell_type": "code",
      "source": [
        "#texto\n",
        "\n",
        "#preguntar tipo de dato"
      ],
      "metadata": {
        "id": "yVjjhAkD4vsC"
      },
      "execution_count": null,
      "outputs": []
    },
    {
      "cell_type": "code",
      "source": [
        "#números"
      ],
      "metadata": {
        "id": "Sg2LRg-g46bR"
      },
      "execution_count": null,
      "outputs": []
    },
    {
      "cell_type": "markdown",
      "source": [
        "# Salida de datos 2 (output)"
      ],
      "metadata": {
        "id": "_0G5rkrW5RlE"
      }
    },
    {
      "cell_type": "markdown",
      "source": [
        "con el comando `print()` también podemos hacer outputs uniendo texto con variables o cualquier otro tipo de dato.\n"
      ],
      "metadata": {
        "id": "em48nLCk5jbx"
      }
    },
    {
      "cell_type": "code",
      "source": [
        ""
      ],
      "metadata": {
        "id": "nNVzON-m5W5s"
      },
      "execution_count": null,
      "outputs": []
    },
    {
      "cell_type": "markdown",
      "source": [
        "#Algunos errores"
      ],
      "metadata": {
        "id": "AZg69po_5_9G"
      }
    },
    {
      "cell_type": "markdown",
      "source": [
        "**¿Qué pasó aquí?**"
      ],
      "metadata": {
        "id": "6qI20Vjj6Gwt"
      }
    },
    {
      "cell_type": "code",
      "source": [
        "n = 8 \n",
        "m = 0\n",
        "print(\"listo\")\n",
        "print(n/m)"
      ],
      "metadata": {
        "id": "zKtmMUg06CLh"
      },
      "execution_count": null,
      "outputs": []
    },
    {
      "cell_type": "markdown",
      "source": [
        "**Cuidado con los paréntecis**"
      ],
      "metadata": {
        "id": "JQ6qtvsb6MyP"
      }
    },
    {
      "cell_type": "code",
      "source": [
        "2*(3+4))"
      ],
      "metadata": {
        "id": "TMo068qE6MPw"
      },
      "execution_count": null,
      "outputs": []
    },
    {
      "cell_type": "markdown",
      "source": [
        "**Error la asignación de variables**\n",
        "\n",
        "\n"
      ],
      "metadata": {
        "id": "9PiV1X4h6eKZ"
      }
    },
    {
      "cell_type": "code",
      "source": [
        "n = 6\n",
        "print(n)\n",
        "n + 2 = 7\n",
        "print(n)"
      ],
      "metadata": {
        "id": "g7HBfUKB6tCh"
      },
      "execution_count": null,
      "outputs": []
    },
    {
      "cell_type": "markdown",
      "source": [
        "**Se me olvidó algo...**"
      ],
      "metadata": {
        "id": "knvqgN9H6xSK"
      }
    },
    {
      "cell_type": "code",
      "source": [
        "numero * 2"
      ],
      "metadata": {
        "id": "wxAUfOHb6w79"
      },
      "execution_count": null,
      "outputs": []
    },
    {
      "cell_type": "markdown",
      "source": [
        "# Comentarios finales\n",
        "\n",
        "\n",
        "* Python es como escribir en inglés.\n",
        "* NO usar espacios para el nombre de una variable.\n",
        "* NO usar nombres de variables iniciadas en números.\n",
        "* Si bien python acepta tíldes para los nombres de variables, una buena  práctica es NO utilizarlas.\n",
        "\n",
        "\n",
        "\n"
      ],
      "metadata": {
        "id": "341sVshm6-O_"
      }
    },
    {
      "cell_type": "markdown",
      "source": [
        "# Ejercicios"
      ],
      "metadata": {
        "id": "h7dbgY9e7WUK"
      }
    },
    {
      "cell_type": "markdown",
      "source": [
        "## Ejercicio 1\n",
        "Realice un programa que pida a un usuario sus datos personales y los guarde en variables:\n",
        "\n",
        "\n",
        "* Nombre completo (string)\n",
        "* Apellidos (string)\n",
        "* Edad (int)\n",
        "* correo (string)\n",
        "* RUT (string)\n",
        "\n",
        "\n"
      ],
      "metadata": {
        "id": "vA7gR5jz7b3c"
      }
    },
    {
      "cell_type": "code",
      "source": [
        "# Escribe tu código aquí "
      ],
      "metadata": {
        "id": "ABE7Fo8z8G0o"
      },
      "execution_count": null,
      "outputs": []
    },
    {
      "cell_type": "markdown",
      "source": [
        "## Ejercicio 2"
      ],
      "metadata": {
        "id": "sTbyYvYR9Bq0"
      }
    },
    {
      "cell_type": "markdown",
      "source": [
        "Escribe un programa que le muestre el siguiente menú al usuario:\n",
        "\n",
        "```\n",
        "Bienvenido a Tinder UAI\n",
        "Si quieres ver tus matches, ingresa 1\n",
        "Si quieres navegar, ingresa 2\n",
        "Si quieres editar tu perfil, ingresa 3\n",
        "Si quieres ir a configuración, ingresa 4\n",
        "```\n",
        "Y que una vez que el usuario ha ingresado su elección, muestre por pantalla el valor seleccionado\n",
        "\n",
        "```\n",
        "Has elegido la opción 4\n",
        "```\n",
        "\n",
        "\n"
      ],
      "metadata": {
        "id": "Id6bhouN9Omw"
      }
    },
    {
      "cell_type": "code",
      "source": [
        "#Escribe aquí tu solución"
      ],
      "metadata": {
        "id": "-9xTNYOs9HDH"
      },
      "execution_count": null,
      "outputs": []
    },
    {
      "cell_type": "markdown",
      "source": [
        "## Ejercicio 3\n",
        "\n",
        "Realice un programa que determine el área de un círculo a partir de su radio.\n",
        "\n",
        "**Considerar pi = 3.14**\n"
      ],
      "metadata": {
        "id": "PlPPWNTh8TxD"
      }
    },
    {
      "cell_type": "code",
      "source": [
        "#Escribe aquí tu solución"
      ],
      "metadata": {
        "id": "LcRTRkoX8ZFK"
      },
      "execution_count": null,
      "outputs": []
    },
    {
      "cell_type": "markdown",
      "source": [
        "# Desafío tipo control (pueden hacerlo después)\n",
        "\n",
        "**Normalmente los ejercicios de pruebas o controles tienen este tipo de enunciados, tienen harto relleno para distraerlos/as**\n",
        "\n",
        "Cuando un huevo es hervido en agua, las proteínas comienzan a coagularse cuando la temperatura sobrepasa un punto crítico. A medida que la temperatura aumenta, las reacciones se aceleran.\n",
        "\n",
        "En la clara, las proteínas comienzan a coagularse para temperaturas sobre 63°C, mientras que en la yema lo hacen para temperaturas sobre 70°C. Para hacer un huevo a la copa, la clara debe haber sido calentada lo suficiente para coagularse a más de 63°C, pero la yema no debe sobrepasar los 70°C para evitar obtener un huevo duro.\n",
        "\n",
        "El tiempo en segundos que toma al centro de la yema alcanzar Ty °C está dado por la fórmula:\n",
        "\n",
        "\n",
        "![image.png](data:image/png;base64,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)\n",
        "\n",
        "Donde M es la masa del huevo, ρ su densidad, c su capacidad calorífica específica y K su conductividad térmica. Algunos valores típicos son:\n",
        "![image.png](data:image/png;base64,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)\n",
        "\n",
        "Tw  es la temperatura de ebullición del agua y To la temperatura original del huevo antes de meterlo al agua, ambos en grados Celsius.\n",
        "\n",
        "**Escriba un programa que reciba como entrada la temperatura original del huevo y muestre como salida el tiempo en segundos que le toma alcanzar la temperatura máxima para prepararlo a la copa.**\n"
      ],
      "metadata": {
        "id": "AEUVvTrZ-W7d"
      }
    },
    {
      "cell_type": "markdown",
      "source": [
        "**Ayuda para calcular logaritmo natural**"
      ],
      "metadata": {
        "id": "srLJGX7SB7qR"
      }
    },
    {
      "cell_type": "code",
      "source": [
        "#Para calcular el logaritmo van a necesitar importan funciones que no están en Python de manera nativa\n",
        "\n",
        "#no se preocupen si es confuso, lo verán más adelante\n",
        "\n",
        "import math # importamos la librería math, que sirve para obtener operadores complejos como logaritmo o e**x \n",
        "\n",
        "log_natural = math.log(2) #usamos math. para hacer referencia a la libreria y ponemos log para usar la función de logaritmo\n",
        "\n",
        "print(\"Calculamos logaritmo natural de 2:\",log_natural)"
      ],
      "metadata": {
        "colab": {
          "base_uri": "https://localhost:8080/"
        },
        "id": "AMLuq9CmApOL",
        "outputId": "842c5f38-58e0-4624-f21d-adaead0df9a0"
      },
      "execution_count": null,
      "outputs": [
        {
          "output_type": "stream",
          "name": "stdout",
          "text": [
            "Calculamos logaritmo natural de 2: 0.6931471805599453\n"
          ]
        }
      ]
    },
    {
      "cell_type": "markdown",
      "source": [
        "Ahora puedes enfrentarte sin problemas al desafío"
      ],
      "metadata": {
        "id": "dqP8KdpTCBbQ"
      }
    },
    {
      "cell_type": "code",
      "source": [
        "# Escribe tu código aquí"
      ],
      "metadata": {
        "id": "CM-lDpnoCFBT"
      },
      "execution_count": null,
      "outputs": []
    }
  ]
}